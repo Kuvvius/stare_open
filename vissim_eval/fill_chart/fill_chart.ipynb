{
 "cells": [
  {
   "cell_type": "code",
   "execution_count": 24,
   "metadata": {},
   "outputs": [],
   "source": [
    "from mr_eval.utils.utils import *\n",
    "\n"
   ]
  },
  {
   "cell_type": "code",
   "execution_count": 35,
   "metadata": {},
   "outputs": [],
   "source": [
    "model_dict = dict(\n",
    "    llavaov = \"LLaVA-OneVision\",\n",
    "    intern25vl78b = \"InternVL2.5-78B\",\n",
    "    qwen25vl72b = \"Qwen2.5-VL-72B\",\n",
    ")\n",
    "model_list = list(model_dict.keys())\n",
    "results_base_dir = \"/mnt/petrelfs/songmingyang/code/reasoning/others/stare_open/vissim_eval/scripts/results\""
   ]
  },
  {
   "cell_type": "code",
   "execution_count": 36,
   "metadata": {},
   "outputs": [
    {
     "name": "stdout",
     "output_type": "stream",
     "text": [
      "LLaVA-OneVision  & 22.55  & 32.35  & 26.47  & 39.47  & 46.30  & 29.17  & 25.49  & 20.59  & 30.39  & 31.37  & 28.43  & 25.49 \\\\ \n",
      "InternVL2.5-78B  & 45.10  & 40.20  & 34.31  & 63.16  & 50.93  & 50.00  & 32.35  & 34.31  & 39.22  & 48.04  & 37.25  & 37.25 \\\\ \n",
      "Qwen2.5-VL-72B  & 57.84  & 40.20  & 38.24  & 50.88  & 41.67  & 41.67  & 55.88  & 40.20  & 39.22  & 42.16  & 38.24  & 42.16 \\\\ \n",
      "LLaVA-OneVision  & 36.76  & 19.12  & 27.94  & 39.44  & 34.85  & 34.43  & 26.47  & 20.59  & 38.24  & 45.59  & 25.00  & 27.94 \\\\ \n",
      "InternVL2.5-78B  & 57.35  & 44.12  & 35.29  & 64.79  & 48.48  & 49.18  & 23.53  & 27.94  & 39.71  & 55.88  & 27.94  & 44.12 \\\\ \n",
      "Qwen2.5-VL-72B  & 72.06  & 50.00  & 44.12  & 59.15  & 30.30  & 36.07  & 63.24  & 50.00  & 48.53  & 47.06  & 44.12  & 44.12 \\\\ \n",
      "\n"
     ]
    }
   ],
   "source": [
    "# difficulty \n",
    "res = \"\"\n",
    "va_transform_list = [\"easy\", \"medium\", \"hard\",]\n",
    "text_instruct_transform_list = [\"easy\", \"medium\", \"hard\",]\n",
    "\n",
    "for suffix in [\"test\", \"vissim_test\"]:\n",
    "    \n",
    "    for model, display_name in model_dict.items():\n",
    "        model_res = f\"{display_name} \"\n",
    "        for dimension in [\"2d\", \"3d\"]:\n",
    "            \n",
    "            va_input_filename = f\"{dimension}_va_{suffix}\"\n",
    "            va_input_file = f\"{results_base_dir}/{model}/{va_input_filename}.json\"\n",
    "            va_res = load_json_file(va_input_file)[\"accuracy_by_difficulty\"]\n",
    "            for va_transform in va_transform_list:\n",
    "                # print(va_res)\n",
    "                # print(va_transform)\n",
    "                res_num =  va_res.get(va_transform, -1) * 100\n",
    "                if res_num < 0:\n",
    "                    model_res += \" & - \"\n",
    "                else:\n",
    "                    model_res += f\" & {res_num :.2f} \"\n",
    "            \n",
    "            ti_input_filename = f\"{dimension}_text_instruct_{suffix}\"\n",
    "            ti_input_file = f\"{results_base_dir}/{model}/{ti_input_filename}.json\"\n",
    "            ti_res = load_json_file(ti_input_file)[\"accuracy_by_difficulty\"]\n",
    "            for ti_transform in text_instruct_transform_list:\n",
    "                res_num =  ti_res.get(ti_transform, -1) * 100\n",
    "                if res_num < 0:\n",
    "                    model_res += \" & - \"\n",
    "                else:\n",
    "                    model_res += f\" & {res_num :.2f} \"\n",
    "        model_res += \"\\\\\\\\ \\n\"\n",
    "        res += model_res\n",
    "        \n",
    "print(res)"
   ]
  },
  {
   "cell_type": "code",
   "execution_count": 33,
   "metadata": {},
   "outputs": [
    {
     "name": "stdout",
     "output_type": "stream",
     "text": [
      "LLaVA-OneVision  & 30.39  & 26.47  & 24.51  & 49.57  & 33.70  & 31.53  & 25.49  & 28.43  & 22.55  & 30.39  & 30.39  & 24.51 \\\\ \n",
      "InternVL2.5-78B  & 43.14  & 34.31  & 42.16  & 61.74  & 52.17  & 50.45  & 40.20  & 29.41  & 36.27  & 34.31  & 48.04  & 40.20 \\\\ \n",
      "Qwen2.5-VL-72B  & 50.00  & 45.10  & 41.18  & 55.65  & 36.96  & 40.54  & 48.04  & 42.16  & 45.10  & 38.24  & 43.14  & 41.18 \\\\ \n",
      "LLaVA-OneVision  & -  & 30.39  & 25.49  & -  & 38.04  & 34.91  & -  & 28.43  & 28.43  & -  & 36.27  & 29.41 \\\\ \n",
      "InternVL2.5-78B  & -  & 39.22  & 51.96  & -  & 56.52  & 52.83  & -  & 25.49  & 35.29  & -  & 46.08  & 39.22 \\\\ \n",
      "Qwen2.5-VL-72B  & -  & 51.96  & 58.82  & -  & 43.48  & 41.51  & -  & 49.02  & 58.82  & -  & 47.06  & 43.14 \\\\ \n",
      "\n"
     ]
    }
   ],
   "source": [
    "# steps\n",
    "res = \"\"\n",
    "va_transform_list = [\"1steps\", \"2steps\", \"3steps\",]\n",
    "text_instruct_transform_list = [\"1steps\", \"2steps\", \"3steps\",]\n",
    "\n",
    "for suffix in [\"test\", \"vissim_test\"]:\n",
    "    \n",
    "    for model, display_name in model_dict.items():\n",
    "        model_res = f\"{display_name} \"\n",
    "        for dimension in [\"2d\", \"3d\"]:\n",
    "            \n",
    "            va_input_filename = f\"{dimension}_va_{suffix}\"\n",
    "            va_input_file = f\"{results_base_dir}/{model}/{va_input_filename}.json\"\n",
    "            va_res = load_json_file(va_input_file)[\"accuracy_by_steps\"]\n",
    "            for va_transform in va_transform_list:\n",
    "                # print(va_res)\n",
    "                # print(va_transform)\n",
    "                res_num =  va_res.get(va_transform, -1) * 100\n",
    "                if res_num < 0:\n",
    "                    model_res += \" & - \"\n",
    "                else:\n",
    "                    model_res += f\" & {res_num :.2f} \"\n",
    "            \n",
    "            ti_input_filename = f\"{dimension}_text_instruct_{suffix}\"\n",
    "            ti_input_file = f\"{results_base_dir}/{model}/{ti_input_filename}.json\"\n",
    "            ti_res = load_json_file(ti_input_file)[\"accuracy_by_steps\"]\n",
    "            for ti_transform in text_instruct_transform_list:\n",
    "                res_num =  ti_res.get(ti_transform, -1) * 100\n",
    "                if res_num < 0:\n",
    "                    model_res += \" & - \"\n",
    "                else:\n",
    "                    model_res += f\" & {res_num :.2f} \"\n",
    "        model_res += \"\\\\\\\\ \\n\"\n",
    "        res += model_res\n",
    "        \n",
    "print(res)"
   ]
  },
  {
   "cell_type": "code",
   "execution_count": 34,
   "metadata": {},
   "outputs": [
    {
     "name": "stdout",
     "output_type": "stream",
     "text": [
      "LLaVA-OneVision  & 18.8  & 29.1  & 28.9  & 25.3  & 27.0  & 19.4  & 41.0  & 30.7 \\\\ \n",
      "InternVL2.5-78B  & 31.2  & 30.8  & 51.1  & 37.4  & 37.8  & 32.4  & 60.0  & 40.5 \\\\ \n",
      "Qwen2.5-VL-72B  & 36.5  & 40.2  & 61.1  & 46.6  & 36.9  & 33.3  & 47.6  & 45.1 \\\\ \n",
      "LLaVA-OneVision  & 27.4  & 28.6  & 32.1  & 29.5  & 27.3  & 26.7  & 45.2  & 35.2 \\\\ \n",
      "InternVL2.5-78B  & 31.0  & 28.6  & 43.6  & 32.6  & 43.4  & 37.3  & 57.0  & 40.7 \\\\ \n",
      "Qwen2.5-VL-72B  & 46.4  & 54.8  & 69.2  & 55.0  & 45.5  & 34.7  & 48.4  & 46.3 \\\\ \n",
      "\n"
     ]
    }
   ],
   "source": [
    "## Draw 2d 3d transformation\n",
    "dimension = \"2d\"\n",
    "va_transform_list = [\"flip\", \"rotate\", \"shear\", \"scale\", \"translate\"]\n",
    "text_instruct_transform_list = [\"flip\", \"rotate\", \"scale\", \"translate\"]\n",
    "\n",
    "\n",
    "dimension = \"3d\"\n",
    "va_transform_list = [ \"rotate\", \"shear\", \"scale\", \"translate\"]\n",
    "text_instruct_transform_list = [ \"rotate\", \"shear\", \"scale\", \"translate\"]\n",
    "\n",
    "res = \"\"\n",
    "for suffix in [\"test\", \"vissim_test\"]:\n",
    "    \n",
    "    for model, display_name in model_dict.items():\n",
    "        model_res = f\"{display_name} \"\n",
    "        va_input_filename = f\"{dimension}_va_{suffix}\"\n",
    "        va_input_file = f\"{results_base_dir}/{model}/{va_input_filename}.json\"\n",
    "        va_res = load_json_file(va_input_file)[\"accuracy_by_transformation\"]\n",
    "        for va_transform in va_transform_list:\n",
    "            model_res += f\" & {va_res[va_transform] * 100 :.1f} \"\n",
    "        \n",
    "        ti_input_filename = f\"{dimension}_text_instruct_{suffix}\"\n",
    "        ti_input_file = f\"{results_base_dir}/{model}/{ti_input_filename}.json\"\n",
    "        ti_res = load_json_file(ti_input_file)[\"accuracy_by_transformation\"]\n",
    "        for ti_transform in text_instruct_transform_list:\n",
    "            model_res += f\" & {ti_res[ti_transform] * 100 :.1f} \"\n",
    "        model_res += \"\\\\\\\\ \\n\"\n",
    "        res += model_res\n",
    "        \n",
    "print(res)"
   ]
  },
  {
   "cell_type": "code",
   "execution_count": null,
   "metadata": {},
   "outputs": [],
   "source": []
  }
 ],
 "metadata": {
  "kernelspec": {
   "display_name": "smoe",
   "language": "python",
   "name": "python3"
  },
  "language_info": {
   "codemirror_mode": {
    "name": "ipython",
    "version": 3
   },
   "file_extension": ".py",
   "mimetype": "text/x-python",
   "name": "python",
   "nbconvert_exporter": "python",
   "pygments_lexer": "ipython3",
   "version": "3.11.8"
  }
 },
 "nbformat": 4,
 "nbformat_minor": 2
}
