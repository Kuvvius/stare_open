{
 "cells": [
  {
   "cell_type": "code",
   "execution_count": 12,
   "metadata": {},
   "outputs": [],
   "source": [
    "from mr_eval.utils.utils import *\n",
    "\n"
   ]
  },
  {
   "cell_type": "code",
   "execution_count": 13,
   "metadata": {},
   "outputs": [],
   "source": [
    "model_dict = dict(\n",
    "    llavaov = \"LLaVA-OneVision\",\n",
    "    qwen25vl72b = \"Qwen2.5-VL-72B\",\n",
    "    intern25vl78b = \"InternVL2.5-78B\",\n",
    ")\n",
    "model_list = list(model_dict.keys())\n",
    "results_base_dir = \"/mnt/petrelfs/songmingyang/code/reasoning/others/stare_open/vissim_eval/scripts/results\"\n",
    "\n"
   ]
  },
  {
   "cell_type": "code",
   "execution_count": 16,
   "metadata": {},
   "outputs": [],
   "source": [
    "dimension = \"2d\"\n",
    "va_transform_list = [\"flip\", \"rotate\", \"shear\", \"scale\", \"translate\"]\n",
    "text_instruct_transform_list = [\"flip\", \"rotate\", \"scale\", \"translate\"]\n",
    "\n",
    "\n",
    "dimension = \"3d\"\n",
    "va_transform_list = [ \"rotate\", \"shear\", \"scale\", \"translate\"]\n",
    "text_instruct_transform_list = [ \"rotate\", \"shear\", \"scale\", \"translate\"]"
   ]
  },
  {
   "cell_type": "code",
   "execution_count": 17,
   "metadata": {},
   "outputs": [
    {
     "name": "stdout",
     "output_type": "stream",
     "text": [
      "LLaVA-OneVision  & 18.8  & 29.1  & 28.9  & 25.3  & 27.0  & 19.4  & 41.0  & 30.7 \\\\ \n",
      "Qwen2.5-VL-72B  & 36.5  & 40.2  & 61.1  & 46.6  & 36.9  & 33.3  & 47.6  & 45.1 \\\\ \n",
      "InternVL2.5-78B  & 31.2  & 30.8  & 51.1  & 37.4  & 37.8  & 32.4  & 60.0  & 40.5 \\\\ \n",
      "LLaVA-OneVision  & 27.4  & 28.6  & 32.1  & 29.5  & 27.3  & 26.7  & 45.2  & 35.2 \\\\ \n",
      "Qwen2.5-VL-72B  & 46.4  & 54.8  & 69.2  & 55.0  & 45.5  & 34.7  & 48.4  & 46.3 \\\\ \n",
      "InternVL2.5-78B  & 31.0  & 28.6  & 43.6  & 32.6  & 43.4  & 37.3  & 57.0  & 40.7 \\\\ \n",
      "\n"
     ]
    }
   ],
   "source": [
    "## Draw 2d 3d transformation\n",
    "\n",
    "\n",
    "res = \"\"\n",
    "for suffix in [\"test\", \"vissim_test\"]:\n",
    "    \n",
    "    for model, display_name in model_dict.items():\n",
    "        model_res = f\"{display_name} \"\n",
    "        va_input_filename = f\"{dimension}_va_{suffix}\"\n",
    "        va_input_file = f\"{results_base_dir}/{model}/{va_input_filename}.json\"\n",
    "        va_res = load_json_file(va_input_file)[\"accuracy_by_transformation\"]\n",
    "        for va_transform in va_transform_list:\n",
    "            model_res += f\" & {va_res[va_transform] * 100 :.1f} \"\n",
    "        \n",
    "        ti_input_filename = f\"{dimension}_text_instruct_{suffix}\"\n",
    "        ti_input_file = f\"{results_base_dir}/{model}/{ti_input_filename}.json\"\n",
    "        ti_res = load_json_file(ti_input_file)[\"accuracy_by_transformation\"]\n",
    "        for ti_transform in text_instruct_transform_list:\n",
    "            model_res += f\" & {ti_res[ti_transform] * 100 :.1f} \"\n",
    "        model_res += \"\\\\\\\\ \\n\"\n",
    "        res += model_res\n",
    "        \n",
    "print(res)"
   ]
  },
  {
   "cell_type": "code",
   "execution_count": null,
   "metadata": {},
   "outputs": [],
   "source": []
  }
 ],
 "metadata": {
  "kernelspec": {
   "display_name": "smoe",
   "language": "python",
   "name": "python3"
  },
  "language_info": {
   "codemirror_mode": {
    "name": "ipython",
    "version": 3
   },
   "file_extension": ".py",
   "mimetype": "text/x-python",
   "name": "python",
   "nbconvert_exporter": "python",
   "pygments_lexer": "ipython3",
   "version": "3.11.8"
  }
 },
 "nbformat": 4,
 "nbformat_minor": 2
}
