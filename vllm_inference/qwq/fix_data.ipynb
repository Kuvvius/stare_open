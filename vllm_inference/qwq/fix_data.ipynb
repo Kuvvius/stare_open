{
 "cells": [
  {
   "cell_type": "code",
   "execution_count": 8,
   "metadata": {},
   "outputs": [],
   "source": [
    "import datasets\n",
    "from datasets import load_dataset\n",
    "\n",
    "dataset = load_dataset(\"/mnt/petrelfs/songmingyang/songmingyang/data/reasoning/gsm8k\",\"main\")\n"
   ]
  },
  {
   "cell_type": "code",
   "execution_count": 10,
   "metadata": {},
   "outputs": [
    {
     "data": {
      "text/plain": [
       "Dataset({\n",
       "    features: ['question', 'answer'],\n",
       "    num_rows: 1319\n",
       "})"
      ]
     },
     "execution_count": 10,
     "metadata": {},
     "output_type": "execute_result"
    }
   ],
   "source": [
    "dataset[\"test\"]"
   ]
  },
  {
   "cell_type": "code",
   "execution_count": 11,
   "metadata": {},
   "outputs": [
    {
     "data": {
      "text/plain": [
       "{'question': \"Janet’s ducks lay 16 eggs per day. She eats three for breakfast every morning and bakes muffins for her friends every day with four. She sells the remainder at the farmers' market daily for $2 per fresh duck egg. How much in dollars does she make every day at the farmers' market?\",\n",
       " 'answer': 'Janet sells 16 - 3 - 4 = <<16-3-4=9>>9 duck eggs a day.\\nShe makes 9 * 2 = $<<9*2=18>>18 every day at the farmer’s market.\\n#### 18'}"
      ]
     },
     "execution_count": 11,
     "metadata": {},
     "output_type": "execute_result"
    }
   ],
   "source": [
    "dataset[\"test\"][0]"
   ]
  },
  {
   "cell_type": "code",
   "execution_count": 1,
   "metadata": {},
   "outputs": [
    {
     "data": {
      "text/plain": [
       "1319"
      ]
     },
     "execution_count": 1,
     "metadata": {},
     "output_type": "execute_result"
    }
   ],
   "source": [
    "from r1_p.utils.utils import *\n",
    "\n",
    "res_file = \"/mnt/petrelfs/songmingyang/code/reasoning/others/stare_open/vllm_inference/qwq/scripts/qwq_gsm8k.jsonl\"\n",
    "res = process_jsonl(res_file)\n",
    "len(res)"
   ]
  },
  {
   "cell_type": "code",
   "execution_count": 2,
   "metadata": {},
   "outputs": [
    {
     "name": "stdout",
     "output_type": "stream",
     "text": [
      "Output length: 1579.8294162244124, Input length: 75.03108415466262\n"
     ]
    }
   ],
   "source": [
    "output_lengths = []\n",
    "input_lengths = []\n",
    "for item in res:\n",
    "    output_lengths.append(item[\"output_length\"])\n",
    "    input_lengths.append(item[\"input_length\"])\n",
    "\n",
    "output_length = sum(output_lengths) / len(output_lengths)\n",
    "input_length = sum(input_lengths) / len(input_lengths)\n",
    "print(f\"Output length: {output_length}, Input length: {input_length}\")"
   ]
  },
  {
   "cell_type": "code",
   "execution_count": 3,
   "metadata": {},
   "outputs": [
    {
     "name": "stdout",
     "output_type": "stream",
     "text": [
      "Output length: 1579.8294162244124, Input length: 46.25094768764215\n"
     ]
    }
   ],
   "source": [
    "output_lengths = []\n",
    "input_lengths = []\n",
    "for item in res:\n",
    "    output_lengths.append(item[\"output_length\"])\n",
    "    input_lengths.append(len(item[\"question\"].split()))\n",
    "\n",
    "output_length = sum(output_lengths) / len(output_lengths)\n",
    "input_length = sum(input_lengths) / len(input_lengths)\n",
    "print(f\"Output length: {output_length}, Input length: {input_length}\")"
   ]
  },
  {
   "cell_type": "code",
   "execution_count": 19,
   "metadata": {},
   "outputs": [],
   "source": [
    "import re\n",
    "from typing import Optional, Union\n",
    "from collections import Counter\n",
    "from math_verify import verify,parse\n",
    "\n",
    "def retrieve_answer(output) -> Optional[str]:\n",
    "    '''\n",
    "    output should be a world_model.GSM8kState if being a list\n",
    "    '''\n",
    "    try:\n",
    "        res = parse(output)[0]\n",
    "    except:\n",
    "        res = output.split(\"\\\\boxed{\")[-1].split(\"}\")[0]\n",
    "    \n",
    "    return str(res)\n",
    "\n",
    "\n",
    "def retrieve_answer_from_dataset(answer: str) -> str:\n",
    "    return re.match(r'[\\S\\s]*#### (.*)$', answer)[1]\n",
    "\n",
    "\n",
    "def judge_answer(output: Optional[str], answer: str) -> bool:\n",
    "    if output is None:\n",
    "        return False\n",
    "    try:\n",
    "        res = verify(output, answer)\n",
    "    except:\n",
    "        return False\n",
    "    if not res:\n",
    "        try:\n",
    "            newres = float(output) == float(answer)\n",
    "        except:\n",
    "            newres = False\n",
    "        res = newres\n",
    "    if not res:\n",
    "        print(f\"Output: {output}, Answer: {answer}\")\n",
    "    return res"
   ]
  },
  {
   "cell_type": "code",
   "execution_count": 20,
   "metadata": {},
   "outputs": [
    {
     "name": "stdout",
     "output_type": "stream",
     "text": [
      "Output: Eq(-30 + 100, 70), Answer: 70\n",
      "Output: 400/11, Answer: 36\n",
      "Output: 765, Answer: 175\n",
      "Output: 99077, Answer: 95200\n",
      "Output: 20*(1/100), Answer: 20\n",
      "Output: 2125, Answer: 2,125\n",
      "Output: 100*(1/100), Answer: 25\n",
      "Output: 114200, Answer: 114,200\n",
      "Output: {30, E*a*a*f*h*i*o*o*o*p*r*s*s*s*t*t*w}, Answer: 10\n",
      "Output: 276000, Answer: 276,000\n",
      "Output: 3, Answer: 6\n",
      "Output: 5600, Answer: 5,600\n",
      "Output: 4, Answer: 3\n",
      "Output: 3700, Answer: 3200\n",
      "Output: 6, Answer: 4\n",
      "Output: 10*(1/100), Answer: 10\n",
      "Output: 10, Answer: 18\n",
      "Output: 760.420000000000, Answer: 803\n",
      "Output: 135, Answer: 81\n",
      "Output: 240, Answer: 200\n",
      "Output: 240, Answer: 150\n",
      "Output: 35*(1/100), Answer: 35\n",
      "Output: 10*(1/100), Answer: 10\n",
      "Output: 1600, Answer: 1,600\n",
      "Output: 522, Answer: 525\n",
      "Output: 288, Answer: 160\n",
      "Output: 900, Answer: 450\n",
      "Output: 16*E*b*f*h*l*o*o*o*p*r*s*s*t*t*u, Answer: 1\n",
      "Output: 65960, Answer: 65,960\n",
      "Output: 1450000, Answer: 1,450,000\n",
      "Output: Eq(1200 + 1600 + 2000, 4800), Answer: 4800\n",
      "Output: 43500, Answer: 43,500\n",
      "Output: 10800, Answer: 10,800\n",
      "Output: 160000, Answer: 162000\n",
      "Output: 105, Answer: 75\n",
      "Output: Eq(2 + 42, 44), Answer: 44\n",
      "Output: Eq(-11 + 15, 4), Answer: 4\n",
      "Output: 14, Answer: 2\n",
      "Output: 21, Answer: 33\n",
      "Output: 8*(1/100), Answer: 8\n",
      "Output: Eq(48 + 50, 98), Answer: 98\n",
      "Output: 6, Answer: 3\n",
      "Output: 42, Answer: 128\n",
      "Output: 600, Answer: 675\n",
      "Output: 27, Answer: 54\n",
      "Output: 2640000, Answer: 2880000\n",
      "Output: 70*(1/100), Answer: 70\n",
      "Output: 17, Answer: 11\n",
      "Output: 6250, Answer: 6,250\n",
      "Output: 18, Answer: 14\n",
      "Output: 14000, Answer: 14,000\n",
      "Output: 36, Answer: 48\n",
      "Output: 50, Answer: 26\n",
      "Output: 6, Answer: 10\n",
      "Output: 150, Answer: 300\n",
      "Output: 1800, Answer: 360\n",
      "Output: Eq(60 + 100, 160), Answer: 160\n",
      "Output: 168, Answer: 342\n",
      "Output: 6000, Answer: 6,600\n",
      "Output: 25*(1/100), Answer: 25\n",
      "Output: zoo, Answer: 2\n",
      "Output: 1875, Answer: 1,875\n",
      "Output: 113, Answer: 98\n",
      "Output: 40, Answer: 35\n",
      "Output: 6, Answer: 4\n",
      "Output: 3.50000000000000, Answer: 3\n",
      "Output: 9860.78000000000, Answer: 7400\n",
      "Output: 720, Answer: 2\n",
      "Output: Eq(12 + 120 + 150 + 200, 482), Answer: 482\n",
      "Output: 25*(1/100), Answer: 25\n",
      "Output: 20, Answer: 18\n",
      "Output: 12*(1/100), Answer: 12\n",
      "Output: 50*(1/100), Answer: 50\n",
      "Output: 18, Answer: 12\n",
      "Output: 50*(1/100), Answer: 50\n",
      "Output: Eq(40*color + 60*haircut, 100), Answer: 100\n",
      "Output: 40000, Answer: 40,000\n",
      "Output: 60*(1/100), Answer: 60\n",
      "Output: 50*(1/100), Answer: 50\n",
      "Output: 26/7, Answer: 4\n",
      "Output: 2180, Answer: 2280\n",
      "Output length: 1579.8294162244124, Input length: 75.03108415466262, Acc: 0.9385898407884761\n"
     ]
    }
   ],
   "source": [
    "output_lengths = []\n",
    "input_lengths = []\n",
    "acc_list = []\n",
    "for item in res:\n",
    "    output_lengths.append(item[\"output_length\"])\n",
    "    input_lengths.append(item[\"input_length\"])\n",
    "    answer = retrieve_answer_from_dataset(item[\"answer\"])\n",
    "    output = retrieve_answer(item[\"response\"])\n",
    "    acc_list.append(judge_answer(output, answer))\n",
    "\n",
    "output_length = sum(output_lengths) / len(output_lengths)\n",
    "input_length = sum(input_lengths) / len(input_lengths)\n",
    "acc = sum(acc_list) / len(acc_list)\n",
    "print(f\"Output length: {output_length}, Input length: {input_length}, Acc: {acc}\")\n",
    "# print(f\"Output length: {output_length}, Input length: {input_length}\")"
   ]
  },
  {
   "cell_type": "code",
   "execution_count": 16,
   "metadata": {},
   "outputs": [
    {
     "data": {
      "text/plain": [
       "False"
      ]
     },
     "execution_count": 16,
     "metadata": {},
     "output_type": "execute_result"
    }
   ],
   "source": [
    "verify(\"6\",\"6.0000000\")"
   ]
  },
  {
   "cell_type": "code",
   "execution_count": 9,
   "metadata": {},
   "outputs": [],
   "source": [
    "text = \"\"\"\n",
    "Okay, so Henry went on a 60-mile bike trip and made two stops. The problem is asking how many miles he traveled between his first and second stops. Let me break this down step by step.\n",
    "\n",
    "First, the total trip is 60 miles. He stopped the first time after 20 miles. That part seems straightforward. So from the start to the first stop, he did 20 miles. Now, the second stop was 15 miles before the end of the trip. Hmm, I need to figure out where that second stop is located in terms of miles from the start.\n",
    "\n",
    "If the entire trip is 60 miles, then 15 miles before the end would mean he had 15 miles left to go after the second stop. So, to find the distance from the start to the second stop, I can subtract those 15 miles from the total 60. Let me write that out: 60 miles total - 15 miles remaining = 45 miles from the start. So the second stop was at the 45-mile mark.\n",
    "\n",
    "Now, the question is the distance between the first and second stops. The first stop was at 20 miles, the second at 45 miles. So subtracting the two should give the distance between them: 45 miles - 20 miles = 25 miles. \n",
    "\n",
    "Wait a second, let me double-check. If he stopped after 20 miles, then continued riding and stopped again 15 miles before the end, which we figured out is at 45 miles. So from 20 to 45, that's 25 miles. Then from the second stop, he had 15 miles left to finish the trip. Adding those up: 20 + 25 + 15 should equal the total 60 miles. Let me confirm: 20 +25 is 45, plus 15 is 60. Yep, that adds up. \n",
    "\n",
    "I think that makes sense. So the answer should be 25 miles between the first and second stops. I don't see any other factors here. The problem doesn't mention any detours or extra miles, so assuming he went straight from the first stop to the second stop and then to the end. Yeah, that seems right. So the answer is 25.\n",
    "</think>\n",
    "\n",
    "Henry's bike trip was 60 miles in total. He made his first stop after riding 20 miles. The second stop occurred 15 miles before the end of the trip, which means he had 15 miles remaining after the second stop. To find the distance from the start to the second stop, subtract the remaining 15 miles from the total distance:  \n",
    "\\[ 60 - 15 = 45 \\text{ miles, Answer: 25\n",
    "Output: Okay, so Grandma Jones made 5 apple pies, right? Each pie is cut into 8 pieces. The question is asking how many pieces the guests took if there were 14 pieces left at the end. Hmm, let me think step by step.\n",
    "\n",
    "First, I need to figure out the total number of pie pieces she started with. Since each pie is divided into 8 pieces and there are 5 pies, I can multiply 5 by 8. Let me write that down: 5 pies × 8 pieces per pie. 5 times 8 is 40. So, there were 40 pieces in total at the beginning.\n",
    "\n",
    "Now, the problem says that after the guests took their pieces, there were 14 left. To find out how many were taken, I guess I need to subtract the remaining pieces from the original total. That makes sense because the total minus what's left should give what was taken. So, 40 total pieces minus 14 remaining equals the number of pieces taken. Let me do the subtraction: 40 - 14. Hmm, 40 minus 10 is 30, and then minus 4 more would be 26. Wait, is that right? Let me check again. 40 minus 14. If I take away 10 from 40, that's 30, then subtract the remaining 4, so 30 -4 =26. Yeah, that seems correct. \n",
    "\n",
    "But let me make sure I didn't make a mistake in the initial calculation. So 5 pies each cut into 8 slices: 5×8 is indeed 40. Then subtract the 14 left, so 40-14=26. Hmm, that seems straightforward. \n",
    "\n",
    "Wait, is there another way to approach this? Maybe adding up the pieces taken instead? Let's see. If each pie was cut into 8 pieces, and there are 5 pies, so total is 40. The remaining is 14, so the guests must have taken 40-14. Yeah, that's the same as before. \n",
    "\n",
    "Alternatively, maybe breaking it down: if there were 14 pieces left, how many pies is that? Since each pie is 8 pieces, 14 pieces would be 1 and 3/4 pies left? But maybe that's complicating it. The question just asks for the number of pieces taken, so the straightforward subtraction should be enough. \n",
    "\n",
    "I think I might be overcomplicating. Let me just verify the arithmetic again. 40 minus 14. 40 minus 10 is 30, minus 4 is 26. Alternatively, 14 plus 26 equals 40. Yes, that checks out. So the answer should be 26 pieces taken by the guests. \n",
    "\n",
    "I don't see any other factors here. The problem doesn't mention any pies being damaged or thrown away, just that the guests took and ate their pieces, leaving 14. So the calculation is straightforward. Total minus remaining equals taken. 40-14=26. Yeah, that's solid. I think that's the answer.\n",
    "</think>\n",
    "\n",
    "Grandma Jones started with 5 pies, each cut into 8 pieces, resulting in a total of \\(5 \\times 8 = 40\\) pieces. After the event, 14 pieces remained. To find the number of pieces taken by the guests, subtract the remaining pieces from the total: \n",
    "\n",
    "\\[\n",
    "40 - 14 = 26\n",
    "\\]\n",
    "\n",
    "**Answer:** 26 pieces were taken by the guests.\n",
    "\"\"\"\n"
   ]
  },
  {
   "cell_type": "code",
   "execution_count": 10,
   "metadata": {},
   "outputs": [],
   "source": [
    "from math_verify import parse\n",
    "a = parse(text)"
   ]
  },
  {
   "cell_type": "code",
   "execution_count": 11,
   "metadata": {},
   "outputs": [
    {
     "data": {
      "text/plain": [
       "[26, '26']"
      ]
     },
     "execution_count": 11,
     "metadata": {},
     "output_type": "execute_result"
    }
   ],
   "source": [
    "a"
   ]
  },
  {
   "cell_type": "code",
   "execution_count": null,
   "metadata": {},
   "outputs": [],
   "source": []
  }
 ],
 "metadata": {
  "kernelspec": {
   "display_name": "r1-v",
   "language": "python",
   "name": "python3"
  },
  "language_info": {
   "codemirror_mode": {
    "name": "ipython",
    "version": 3
   },
   "file_extension": ".py",
   "mimetype": "text/x-python",
   "name": "python",
   "nbconvert_exporter": "python",
   "pygments_lexer": "ipython3",
   "version": "3.11.11"
  }
 },
 "nbformat": 4,
 "nbformat_minor": 2
}
