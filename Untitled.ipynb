{
 "cells": [
  {
   "cell_type": "code",
   "execution_count": 21,
   "id": "2c415687-6b39-4ddd-8aa8-dd9459229590",
   "metadata": {
    "tags": []
   },
   "outputs": [],
   "source": [
    "from data_utils import load_yaml\n",
    "config = load_yaml('configs/gpt.yaml')"
   ]
  },
  {
   "cell_type": "code",
   "execution_count": 22,
   "id": "c09bcf79-5b23-43c0-81ef-c566bccb6659",
   "metadata": {
    "tags": []
   },
   "outputs": [
    {
     "name": "stdout",
     "output_type": "stream",
     "text": [
      "\n",
      "question\n",
      "Think step-by-step, and then put your final answer in \"\\boxed{}\". \n"
     ]
    }
   ],
   "source": [
    "empty_prompt_sample_structure = config['multi_choice_format']\n",
    "empty_prompt = empty_prompt_sample_structure\n",
    "query = empty_prompt.format(question=\"question\")\n",
    "print(query)"
   ]
  },
  {
   "cell_type": "code",
   "execution_count": null,
   "id": "0b853aa8-2d39-4673-bdcb-7715504921ca",
   "metadata": {},
   "outputs": [],
   "source": []
  }
 ],
 "metadata": {
  "kernelspec": {
   "display_name": "mmbench",
   "language": "python",
   "name": "mmbench"
  },
  "language_info": {
   "codemirror_mode": {
    "name": "ipython",
    "version": 3
   },
   "file_extension": ".py",
   "mimetype": "text/x-python",
   "name": "python",
   "nbconvert_exporter": "python",
   "pygments_lexer": "ipython3",
   "version": "3.9.18"
  }
 },
 "nbformat": 4,
 "nbformat_minor": 5
}
