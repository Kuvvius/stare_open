{
 "cells": [
  {
   "cell_type": "code",
   "execution_count": 6,
   "id": "2c415687-6b39-4ddd-8aa8-dd9459229590",
   "metadata": {
    "tags": []
   },
   "outputs": [],
   "source": [
    "from data_utils import load_yaml\n",
    "config = load_yaml('/mnt/petrelfs/haoyunzhuo/EMMA/EMMA_BAK_108/configs/gpt.yaml')"
   ]
  },
  {
   "cell_type": "code",
   "execution_count": 8,
   "id": "c09bcf79-5b23-43c0-81ef-c566bccb6659",
   "metadata": {
    "tags": []
   },
   "outputs": [
    {
     "ename": "KeyError",
     "evalue": "'options'",
     "output_type": "error",
     "traceback": [
      "\u001b[0;31m---------------------------------------------------------------------------\u001b[0m",
      "\u001b[0;31mKeyError\u001b[0m                                  Traceback (most recent call last)",
      "Cell \u001b[0;32mIn[8], line 3\u001b[0m\n\u001b[1;32m      1\u001b[0m empty_prompt_sample_structure \u001b[38;5;241m=\u001b[39m config[\u001b[38;5;124m'\u001b[39m\u001b[38;5;124mmulti_choice_format\u001b[39m\u001b[38;5;124m'\u001b[39m]\n\u001b[1;32m      2\u001b[0m empty_prompt \u001b[38;5;241m=\u001b[39m empty_prompt_sample_structure\n\u001b[0;32m----> 3\u001b[0m query \u001b[38;5;241m=\u001b[39m \u001b[43mempty_prompt\u001b[49m\u001b[38;5;241;43m.\u001b[39;49m\u001b[43mformat\u001b[49m\u001b[43m(\u001b[49m\u001b[43mcontext\u001b[49m\u001b[38;5;241;43m=\u001b[39;49m\u001b[38;5;124;43m\"\u001b[39;49m\u001b[38;5;124;43m\"\u001b[39;49m\u001b[43m,\u001b[49m\u001b[43m \u001b[49m\u001b[43mquestion\u001b[49m\u001b[38;5;241;43m=\u001b[39;49m\u001b[38;5;124;43m\"\u001b[39;49m\u001b[38;5;124;43mquestion\u001b[39;49m\u001b[38;5;124;43m\"\u001b[39;49m\u001b[43m)\u001b[49m\n\u001b[1;32m      4\u001b[0m \u001b[38;5;28mprint\u001b[39m(query)\n",
      "\u001b[0;31mKeyError\u001b[0m: 'options'"
     ]
    }
   ],
   "source": [
    "empty_prompt_sample_structure = config['multi_choice_format']\n",
    "empty_prompt = empty_prompt_sample_structure\n",
    "query = empty_prompt.format(context=\"\", question=\"question\", options=\"\")\n",
    "print(query)"
   ]
  },
  {
   "cell_type": "code",
   "execution_count": null,
   "id": "0b853aa8-2d39-4673-bdcb-7715504921ca",
   "metadata": {},
   "outputs": [],
   "source": []
  }
 ],
 "metadata": {
  "kernelspec": {
   "display_name": "mmbench",
   "language": "python",
   "name": "mmbench"
  },
  "language_info": {
   "codemirror_mode": {
    "name": "ipython",
    "version": 3
   },
   "file_extension": ".py",
   "mimetype": "text/x-python",
   "name": "python",
   "nbconvert_exporter": "python",
   "pygments_lexer": "ipython3",
   "version": "3.9.18"
  }
 },
 "nbformat": 4,
 "nbformat_minor": 5
}
